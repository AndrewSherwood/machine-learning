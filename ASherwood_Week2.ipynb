{
 "cells": [
  {
   "cell_type": "code",
   "execution_count": 2,
   "metadata": {},
   "outputs": [],
   "source": [
    "import numpy as np\n",
    "import pandas as pd\n",
    "import scipy as sp"
   ]
  },
  {
   "cell_type": "code",
   "execution_count": 3,
   "metadata": {},
   "outputs": [],
   "source": [
    "%matplotlib inline\n",
    "import matplotlib.pyplot as plt\n",
    "plt.style.use('ggplot')"
   ]
  },
  {
   "cell_type": "code",
   "execution_count": 4,
   "metadata": {},
   "outputs": [
    {
     "name": "stdout",
     "output_type": "stream",
     "text": [
      "Writing hw_data.csv\n"
     ]
    }
   ],
   "source": [
    "%%file hw_data.csv\n",
    "id,sex,weight,height\n",
    "1,M,190,77\n",
    "2,F,120,70\n",
    "3,F,110,68\n",
    "4,M,150,72\n",
    "5,O,120,66\n",
    "6,M,120,60\n",
    "7,F,140,70"
   ]
  },
  {
   "cell_type": "markdown",
   "metadata": {},
   "source": [
    "# Python"
   ]
  },
  {
   "cell_type": "markdown",
   "metadata": {},
   "source": [
    "## 1. Finish creating the following function that takes a list and returns the average value."
   ]
  },
  {
   "cell_type": "code",
   "execution_count": 45,
   "metadata": {},
   "outputs": [
    {
     "data": {
      "text/plain": [
       "3.375"
      ]
     },
     "execution_count": 45,
     "metadata": {},
     "output_type": "execute_result"
    }
   ],
   "source": [
    "def average(my_list):\n",
    "    total = 0\n",
    "    for item in my_list:\n",
    "        total = (int(item)+ (total))\n",
    "        avg = total/len(my_list)\n",
    "        \n",
    "    return avg\n",
    "\n",
    "average([1,2,1,4,3,5,2,9])"
   ]
  },
  {
   "cell_type": "markdown",
   "metadata": {},
   "source": [
    "## 2. Using a Dictionary keep track of the count of numbers (or items) from a list"
   ]
  },
  {
   "cell_type": "code",
   "execution_count": 46,
   "metadata": {},
   "outputs": [
    {
     "data": {
      "text/plain": [
       "{1: 2, 2: 2, 4: 1, 3: 1, 5: 1, 9: 1}"
      ]
     },
     "execution_count": 46,
     "metadata": {},
     "output_type": "execute_result"
    }
   ],
   "source": [
    "def counts(my_list):\n",
    "    counts = dict()\n",
    "    for item in my_list:\n",
    "        counts[item]=counts.get(item,0) + 1\n",
    "    \n",
    "    return counts\n",
    "\n",
    "counts([1,2,1,4,3,2,5,9])    "
   ]
  },
  {
   "cell_type": "markdown",
   "metadata": {},
   "source": [
    "## 3.  Using the `counts()` function and the `.split()` function, return a dictionary of most occuring words from the following paragraph. Bonus, remove punctuation from words."
   ]
  },
  {
   "cell_type": "code",
   "execution_count": 124,
   "metadata": {},
   "outputs": [
    {
     "name": "stdout",
     "output_type": "stream",
     "text": [
      "Counter({'the': 34, 'and': 17, 'a': 15, 'to': 15, 'footman': 9, 'of': 9, '’': 9, 'was': 8, 'she': 7, 'at': 7, 'in': 7, 'he': 6, 'door': 6, 'you': 6, 'for': 5, 'out': 5, 'his': 5, 'alice': 5, 'it': 4, 'had': 4, 'as': 4, 'this': 4, 'on': 4, 'him': 3, 'because': 3, 'by': 3, 'large': 3, 'that': 3, 'all': 3, 'their': 3, 'then': 3, 'into': 3, 'up': 3, 'said': 3, 'i': 3, 'might': 3, 'or': 2, 'two': 2, 'looking': 2, 'house': 2, 'what': 2, 'next': 2, 'when': 2, 'livery': 2, 'came': 2, 'be': 2, 'face': 2, 'only': 2, 'with': 2, 'opened': 2, 'eyes': 2, 'both': 2, 'over': 2, 'very': 2, 'know': 2, 'little': 2, 'wood': 2, 'fish': 2, 'from': 2, 'great': 2, 'nearly': 2, 'other': 2, 'solemn': 2, 'tone': 2, 'duchess': 2, 'an': 2, 'invitation': 2, 'queen': 2, 'play': 2, 'croquet': 2, 'repeated': 2, 'same': 2, 'so': 2, 'sky': 2, 'went': 2, 'no': 2, 'knocking': 2, 'noise': 2, 'inside': 2, 'one': 2, 'could': 2, 'if': 2, 'pieces': 2, 'am': 2, 'get': 2, 'in?’': 2, 'minute': 1, 'stood': 1, 'wondering': 1, 'do': 1, 'suddenly': 1, 'running': 1, 'wood—(she': 1, 'considered': 1, 'livery:': 1, 'otherwise': 1, 'judging': 1, 'would': 1, 'have': 1, 'called': 1, 'fish)—and': 1, 'rapped': 1, 'loudly': 1, 'knuckles': 1, 'another': 1, 'round': 1, 'like': 1, 'frog;': 1, 'footmen': 1, 'noticed': 1, 'powdered': 1, 'hair': 1, 'curled': 1, 'heads': 1, 'felt': 1, 'curious': 1, 'about': 1, 'crept': 1, 'way': 1, 'listen': 1, 'began': 1, 'producing': 1, 'under': 1, 'arm': 1, 'letter': 1, 'himself': 1, 'handed': 1, 'saying': 1, '‘for': 1, 'frog': 1, 'changing': 1, 'order': 1, 'words': 1, '‘from': 1, 'they': 1, 'bowed': 1, 'low': 1, 'curls': 1, 'got': 1, 'entangled': 1, 'together': 1, 'laughed': 1, 'much': 1, 'run': 1, 'back': 1, 'fear': 1, 'hearing': 1, 'her;': 1, 'peeped': 1, 'gone': 1, 'sitting': 1, 'ground': 1, 'near': 1, 'staring': 1, 'stupidly': 1, 'timidly': 1, 'knocked': 1, '‘there’s': 1, 'sort': 1, 'use': 1, '‘and': 1, 'reasons': 1, 'first': 1, 'i’m': 1, 'side': 1, 'are;': 1, 'secondly': 1, 'they’re': 1, 'making': 1, 'such': 1, 'possibly': 1, 'hear': 1, 'certainly': 1, 'there': 1, 'most': 1, 'extraordinary': 1, 'going': 1, 'within—a': 1, 'constant': 1, 'howling': 1, 'sneezing': 1, 'every': 1, 'now': 1, 'crash': 1, 'dish': 1, 'kettle': 1, 'been': 1, 'broken': 1, '‘please': 1, '‘how': 1, '‘there': 1, 'some': 1, 'sense': 1, 'your': 1, 'without': 1, 'attending': 1, 'her': 1, '‘if': 1, 'we': 1, 'between': 1, 'us': 1, 'instance': 1, 'were': 1, 'knock': 1, 'let': 1, 'time': 1, 'speaking': 1, 'thought': 1, 'decidedly': 1, 'uncivil': 1, '‘but': 1, 'perhaps': 1, 'can’t': 1, 'help': 1, 'herself;': 1, '‘his': 1, 'are': 1, 'top': 1, 'head': 1, 'but': 1, 'any': 1, 'rate': 1, 'answer': 1, 'questions': 1, '—how': 1, 'aloud': 1, '‘i': 1, 'shall': 1, 'sit': 1, 'here': 1, 'remarked': 1, '‘till': 1, 'tomorrow—’': 1, 'moment': 1, 'plate': 1, 'skimming': 1, 'straight': 1, 'footman’s': 1, 'head:': 1, 'just': 1, 'grazed': 1, 'nose': 1, 'broke': 1, 'against': 1, 'trees': 1, 'behind': 1})\n"
     ]
    }
   ],
   "source": [
    "from collections import Counter\n",
    "\n",
    "Text = '''\n",
    "For a minute or two she stood looking at the house, and wondering what to do next, when suddenly a footman in livery came running out of the wood—(she considered him to be a footman because he was in livery: otherwise, judging by his face only, she would have called him a fish)—and rapped loudly at the door with his knuckles. It was opened by another footman in livery, with a round face, and large eyes like a frog; and both footmen, Alice noticed, had powdered hair that curled all over their heads. She felt very curious to know what it was all about, and crept a little way out of the wood to listen.\n",
    "The Fish-Footman began by producing from under his arm a great letter, nearly as large as himself, and this he handed over to the other, saying, in a solemn tone, ‘For the Duchess. An invitation from the Queen to play croquet.’ The Frog-Footman repeated, in the same solemn tone, only changing the order of the words a little, ‘From the Queen. An invitation for the Duchess to play croquet.’\n",
    "Then they both bowed low, and their curls got entangled together.\n",
    "Alice laughed so much at this, that she had to run back into the wood for fear of their hearing her; and when she next peeped out the Fish-Footman was gone, and the other was sitting on the ground near the door, staring stupidly up into the sky.\n",
    "Alice went timidly up to the door, and knocked.\n",
    "‘There’s no sort of use in knocking,’ said the Footman, ‘and that for two reasons. First, because I’m on the same side of the door as you are; secondly, because they’re making such a noise inside, no one could possibly hear you.’ And certainly there was a most extraordinary noise going on within—a constant howling and sneezing, and every now and then a great crash, as if a dish or kettle had been broken to pieces.\n",
    "‘Please, then,’ said Alice, ‘how am I to get in?’\n",
    "‘There might be some sense in your knocking,’ the Footman went on without attending to her, ‘if we had the door between us. For instance, if you were inside, you might knock, and I could let you out, you know.’ He was looking up into the sky all the time he was speaking, and this Alice thought decidedly uncivil. ‘But perhaps he can’t help it,’ she said to herself; ‘his eyes are so very nearly at the top of his head. But at any rate he might answer questions.—How am I to get in?’ she repeated, aloud.\n",
    "‘I shall sit here,’ the Footman remarked, ‘till tomorrow—’\n",
    "At this moment the door of the house opened, and a large plate came skimming out, straight at the Footman’s head: it just grazed his nose, and broke to pieces against one of the trees behind him.'''\n",
    " \n",
    "for char in '-.,\\n':\n",
    "    Text=Text.replace(char,' ')\n",
    "Text = Text.lower()\n",
    "\n",
    "word_list = Text.split()\n",
    "\n",
    "word_counts = Counter(word_list)\n",
    "\n",
    "print(word_counts)\n"
   ]
  },
  {
   "cell_type": "markdown",
   "metadata": {},
   "source": [
    "## 4. Read in a file and write each line from the file to a new file Title-ized\n",
    "\n",
    "`This is the first line` ->  `This Is The First Line`\n",
    "\n",
    "Hint: There's a function to do this"
   ]
  },
  {
   "cell_type": "code",
   "execution_count": 182,
   "metadata": {},
   "outputs": [],
   "source": [
    "file = open(\"Q4.txt\",\"w\")\n",
    "\n",
    "file.write(\"This is the first line\\n\")\n",
    "file.write(\"This is the second line\")\n",
    "file.close()\n",
    "\n",
    "file = open(\"Q4.txt\",\"r\")\n",
    "lines = file.read()\n",
    "Tlines = lines.title()\n",
    "\n",
    "file2 = open(\"TitlizedQ4.txt\",\"w\")\n",
    "file2.write(Tlines)\n",
    "\n",
    "file.close()\n",
    "file2.close()\n",
    "\n",
    "\n"
   ]
  },
  {
   "cell_type": "markdown",
   "metadata": {},
   "source": [
    "# Numpy"
   ]
  },
  {
   "cell_type": "markdown",
   "metadata": {},
   "source": [
    "## 1. Given a list, find the average using a numpy function. "
   ]
  },
  {
   "cell_type": "code",
   "execution_count": 183,
   "metadata": {},
   "outputs": [
    {
     "data": {
      "text/plain": [
       "3.375"
      ]
     },
     "execution_count": 183,
     "metadata": {},
     "output_type": "execute_result"
    }
   ],
   "source": [
    "simple_list = [1,2,1,4,3,2,5,9]\n",
    "\n",
    "np.mean(simple_list)"
   ]
  },
  {
   "cell_type": "markdown",
   "metadata": {},
   "source": [
    "## 2. Given two lists of Heights and Weights of individual, calculate the BMI of those individuals, without writing a `for-loop`"
   ]
  },
  {
   "cell_type": "code",
   "execution_count": 192,
   "metadata": {},
   "outputs": [
    {
     "name": "stdout",
     "output_type": "stream",
     "text": [
      "[29.06592681 27.73229978 30.73941662 24.16326531 26.33288875]\n"
     ]
    }
   ],
   "source": [
    "heights = np.array([174, 173, 173, 175, 171])\n",
    "weights = np.array([88, 83, 92, 74, 77])\n",
    "\n",
    "#what are the units of measuremnt? inches? 14 ft\n",
    "\n",
    "BMI = (weights/((heights/100)**2)) \n",
    "\n",
    "print(BMI)"
   ]
  },
  {
   "cell_type": "markdown",
   "metadata": {},
   "source": [
    "## 3. Create an array of length 20 filled with random values (between 0 to 1) "
   ]
  },
  {
   "cell_type": "code",
   "execution_count": 193,
   "metadata": {},
   "outputs": [
    {
     "data": {
      "text/plain": [
       "array([0.65737693, 0.27365242, 0.48363711, 0.25990696, 0.695965  ,\n",
       "       0.66120278, 0.02939275, 0.2805625 , 0.87747838, 0.77389519,\n",
       "       0.84146648, 0.33408767, 0.37839074, 0.8581999 , 0.27483054,\n",
       "       0.21531964, 0.05116829, 0.05146987, 0.86610914, 0.62377891])"
      ]
     },
     "execution_count": 193,
     "metadata": {},
     "output_type": "execute_result"
    }
   ],
   "source": [
    "np.random.random_sample(20)"
   ]
  },
  {
   "cell_type": "markdown",
   "metadata": {},
   "source": [
    "## Bonus. 1. Create an array with a large (>1000) length filled with random numbers from different distributions (normal, uniform, etc.). 2. Then, plot a histogram of these values. "
   ]
  },
  {
   "cell_type": "code",
   "execution_count": 219,
   "metadata": {},
   "outputs": [
    {
     "data": {
      "text/plain": [
       "(array([1.]),\n",
       " array([1000.53604779, 1001.53604779]),\n",
       " <a list of 1 Patch objects>)"
      ]
     },
     "execution_count": 219,
     "metadata": {},
     "output_type": "execute_result"
    },
    {
     "data": {
      "image/png": "[encoded data removed]",
      "text/plain": [
       "<Figure size 432x288 with 1 Axes>"
      ]
     },
     "metadata": {
      "needs_background": "light"
     },
     "output_type": "display_data"
    }
   ],
   "source": [
    "import matplotlib.pyplot as plt\n",
    "\n",
    "x= np.random.normal(1000)\n",
    "\n",
    "plt.hist(x, bins = 1)\n",
    "\n",
    "#don't understand what is wrong here...Maybe I'll come back to it"
   ]
  },
  {
   "cell_type": "markdown",
   "metadata": {},
   "source": [
    "# Pandas"
   ]
  },
  {
   "cell_type": "markdown",
   "metadata": {},
   "source": [
    "## 1. Read in a CSV () and display all the columns and their respective data types "
   ]
  },
  {
   "cell_type": "code",
   "execution_count": 227,
   "metadata": {},
   "outputs": [
    {
     "data": {
      "text/plain": [
       "Index(['id', 'sex', 'weight', 'height'], dtype='object')"
      ]
     },
     "execution_count": 227,
     "metadata": {},
     "output_type": "execute_result"
    }
   ],
   "source": [
    "df = pd.read_csv('C:/Users/gallagher lab/mlnn-1/2/hw_data.csv')\n",
    "\n",
    "df.columns\n"
   ]
  },
  {
   "cell_type": "markdown",
   "metadata": {},
   "source": [
    "## 2. Find the average weight "
   ]
  },
  {
   "cell_type": "code",
   "execution_count": 233,
   "metadata": {},
   "outputs": [
    {
     "data": {
      "text/plain": [
       "135.71428571428572"
      ]
     },
     "execution_count": 233,
     "metadata": {},
     "output_type": "execute_result"
    }
   ],
   "source": [
    "df['weight'].mean()"
   ]
  },
  {
   "cell_type": "markdown",
   "metadata": {},
   "source": [
    "## 3. Find the Value Counts on column `sex` "
   ]
  },
  {
   "cell_type": "code",
   "execution_count": 234,
   "metadata": {},
   "outputs": [
    {
     "data": {
      "text/plain": [
       "F    3\n",
       "M    3\n",
       "O    1\n",
       "Name: sex, dtype: int64"
      ]
     },
     "execution_count": 234,
     "metadata": {},
     "output_type": "execute_result"
    }
   ],
   "source": [
    "df['sex'].value_counts()"
   ]
  },
  {
   "cell_type": "markdown",
   "metadata": {},
   "source": [
    "## 4. Plot Height vs. Weight "
   ]
  },
  {
   "cell_type": "code",
   "execution_count": 248,
   "metadata": {},
   "outputs": [
    {
     "data": {
      "text/plain": [
       "<matplotlib.axes._subplots.AxesSubplot at 0x23e63a30b88>"
      ]
     },
     "execution_count": 248,
     "metadata": {},
     "output_type": "execute_result"
    },
    {
     "data": {
      "image/png": "[encoded data removed]",
      "text/plain": [
       "<Figure size 432x288 with 1 Axes>"
      ]
     },
     "metadata": {
      "needs_background": "light"
     },
     "output_type": "display_data"
    }
   ],
   "source": [
    "df.sort_values(by='height')\n",
    "\n",
    "df.plot(kind='scatter',x ='height', y='weight')"
   ]
  },
  {
   "cell_type": "markdown",
   "metadata": {},
   "source": [
    "## 5. Calculate BMI and save as a new column"
   ]
  },
  {
   "cell_type": "code",
   "execution_count": 262,
   "metadata": {},
   "outputs": [
    {
     "name": "stdout",
     "output_type": "stream",
     "text": [
      "   id sex  weight  height        BMI\n",
      "0   1   M     190      77  22.528251\n",
      "1   2   F     120      70  17.216327\n",
      "2   3   F     110      68  16.723616\n",
      "3   4   M     150      72  20.341435\n",
      "4   5   O     120      66  19.366391\n",
      "5   6   M     120      60  23.433333\n",
      "6   7   F     140      70  20.085714\n"
     ]
    }
   ],
   "source": [
    "#I am assuming we have switched from metric to imperial units of measurement \n",
    "\n",
    "BMI = 703 * (df['weight']/((df['height'])**2))\n",
    "df['BMI']=BMI\n",
    "print(df)"
   ]
  },
  {
   "cell_type": "markdown",
   "metadata": {},
   "source": [
    "## 6. Save sheet as a new CSV file `hw_dataB.csv`"
   ]
  },
  {
   "cell_type": "code",
   "execution_count": 268,
   "metadata": {},
   "outputs": [],
   "source": [
    "df.to_csv(r'C:\\Users\\gallagher lab\\mlnn-1\\2\\hw_dataB.csv')"
   ]
  },
  {
   "cell_type": "markdown",
   "metadata": {},
   "source": [
    "## Run the following"
   ]
  },
  {
   "cell_type": "code",
   "execution_count": 269,
   "metadata": {},
   "outputs": [
    {
     "name": "stderr",
     "output_type": "stream",
     "text": [
      "'cat' is not recognized as an internal or external command,\n",
      "operable program or batch file.\n"
     ]
    }
   ],
   "source": [
    "!cat hw_dataB.csv"
   ]
  },
  {
   "cell_type": "code",
   "execution_count": null,
   "metadata": {},
   "outputs": [],
   "source": []
  }
 ],
 "metadata": {
  "kernelspec": {
   "display_name": "Python 3",
   "language": "python",
   "name": "python3"
  },
  "language_info": {
   "codemirror_mode": {
    "name": "ipython",
    "version": 3
   },
   "file_extension": ".py",
   "mimetype": "text/x-python",
   "name": "python",
   "nbconvert_exporter": "python",
   "pygments_lexer": "ipython3",
   "version": "3.7.4"
  }
 },
 "nbformat": 4,
 "nbformat_minor": 1
}
